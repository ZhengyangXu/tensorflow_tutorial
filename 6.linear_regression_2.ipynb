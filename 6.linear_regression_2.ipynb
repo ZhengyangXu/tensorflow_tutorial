{
 "cells": [
  {
   "cell_type": "markdown",
   "metadata": {},
   "source": [
    "# Linear Regression"
   ]
  },
  {
   "cell_type": "code",
   "execution_count": 108,
   "metadata": {},
   "outputs": [],
   "source": [
    "import tensorflow as tf\n",
    "import numpy as np\n",
    "import time\n",
    "from sklearn.model_selection import train_test_split\n",
    "from utility import show_graph"
   ]
  },
  {
   "cell_type": "markdown",
   "metadata": {},
   "source": [
    "## Hyperparameter"
   ]
  },
  {
   "cell_type": "code",
   "execution_count": 109,
   "metadata": {},
   "outputs": [],
   "source": [
    "LEARNING_RATE = 0.5\n",
    "EPOCHS = 10000"
   ]
  },
  {
   "cell_type": "markdown",
   "metadata": {},
   "source": [
    "## Gen data"
   ]
  },
  {
   "cell_type": "code",
   "execution_count": 110,
   "metadata": {},
   "outputs": [],
   "source": [
    "X_train = np.random.rand(100).astype(np.float32)\n",
    "y_train = X_train ** 2"
   ]
  },
  {
   "cell_type": "markdown",
   "metadata": {},
   "source": [
    "## Add noise to y_train"
   ]
  },
  {
   "cell_type": "code",
   "execution_count": 111,
   "metadata": {},
   "outputs": [],
   "source": [
    "y_train = np.vectorize(lambda y: y + np.random.normal(loc=0.0, scale=0.1))(y_train)"
   ]
  },
  {
   "cell_type": "markdown",
   "metadata": {},
   "source": [
    "## Split data into training, validation and testing"
   ]
  },
  {
   "cell_type": "markdown",
   "metadata": {},
   "source": [
    "> train:val:test = 6:2:2"
   ]
  },
  {
   "cell_type": "code",
   "execution_count": 112,
   "metadata": {},
   "outputs": [],
   "source": [
    "X_train, X_test, y_train, y_test = train_test_split(X_train, y_train, test_size=0.2, train_size=0.8)\n",
    "X_train, X_val, y_train, y_val = train_test_split(X_train, y_train, test_size=0.25, train_size=0.75)"
   ]
  },
  {
   "cell_type": "markdown",
   "metadata": {},
   "source": [
    "## Build model"
   ]
  },
  {
   "cell_type": "code",
   "execution_count": 113,
   "metadata": {},
   "outputs": [],
   "source": [
    "X_model = tf.placeholder(tf.float32, [None])\n",
    "y_model = tf.placeholder(tf.float32, [None])\n",
    "W_model = tf.Variable(tf.random_normal([1]))\n",
    "b_model = tf.Variable(tf.random_normal([1]))"
   ]
  },
  {
   "cell_type": "code",
   "execution_count": 114,
   "metadata": {},
   "outputs": [],
   "source": [
    "pred_model = W_model * X_model + b_model\n",
    "loss = tf.reduce_mean(tf.pow((pred_model - y_model), 2))\n",
    "optimizer = tf.train.GradientDescentOptimizer(learning_rate=LEARNING_RATE)\n",
    "train_op = optimizer.minimize(loss)"
   ]
  },
  {
   "cell_type": "code",
   "execution_count": 115,
   "metadata": {},
   "outputs": [
    {
     "name": "stdout",
     "output_type": "stream",
     "text": [
      "Time:2.5 epoch:0 train_loss:0.4685 validation_loss:0.0784\n",
      "Time:0.0 epoch:100 train_loss:0.0105 validation_loss:0.0130\n",
      "Time:0.0 epoch:200 train_loss:0.0105 validation_loss:0.0130\n",
      "Time:0.0 epoch:300 train_loss:0.0105 validation_loss:0.0130\n",
      "Time:0.0 epoch:400 train_loss:0.0105 validation_loss:0.0130\n",
      "Time:0.0 epoch:500 train_loss:0.0105 validation_loss:0.0130\n",
      "Time:0.0 epoch:600 train_loss:0.0105 validation_loss:0.0130\n",
      "Time:0.0 epoch:700 train_loss:0.0105 validation_loss:0.0130\n",
      "Time:0.0 epoch:800 train_loss:0.0105 validation_loss:0.0130\n",
      "Time:0.0 epoch:900 train_loss:0.0105 validation_loss:0.0130\n",
      "Time:0.0 epoch:1000 train_loss:0.0105 validation_loss:0.0130\n",
      "Time:0.0 epoch:1100 train_loss:0.0105 validation_loss:0.0130\n",
      "Time:0.0 epoch:1200 train_loss:0.0105 validation_loss:0.0130\n",
      "Time:0.0 epoch:1300 train_loss:0.0105 validation_loss:0.0130\n",
      "Time:0.0 epoch:1400 train_loss:0.0105 validation_loss:0.0130\n",
      "Time:0.0 epoch:1500 train_loss:0.0105 validation_loss:0.0130\n",
      "Time:0.0 epoch:1600 train_loss:0.0105 validation_loss:0.0130\n",
      "Time:0.0 epoch:1700 train_loss:0.0105 validation_loss:0.0130\n",
      "Time:0.0 epoch:1800 train_loss:0.0105 validation_loss:0.0130\n",
      "Time:0.0 epoch:1900 train_loss:0.0105 validation_loss:0.0130\n",
      "Time:0.0 epoch:2000 train_loss:0.0105 validation_loss:0.0130\n",
      "Time:0.0 epoch:2100 train_loss:0.0105 validation_loss:0.0130\n",
      "Time:0.0 epoch:2200 train_loss:0.0105 validation_loss:0.0130\n",
      "Time:0.0 epoch:2300 train_loss:0.0105 validation_loss:0.0130\n",
      "Time:0.0 epoch:2400 train_loss:0.0105 validation_loss:0.0130\n",
      "Time:0.0 epoch:2500 train_loss:0.0105 validation_loss:0.0130\n",
      "Time:0.0 epoch:2600 train_loss:0.0105 validation_loss:0.0130\n",
      "Time:0.0 epoch:2700 train_loss:0.0105 validation_loss:0.0130\n",
      "Time:0.0 epoch:2800 train_loss:0.0105 validation_loss:0.0130\n",
      "Time:0.0 epoch:2900 train_loss:0.0105 validation_loss:0.0130\n",
      "Time:0.0 epoch:3000 train_loss:0.0105 validation_loss:0.0130\n",
      "Time:0.0 epoch:3100 train_loss:0.0105 validation_loss:0.0130\n",
      "Time:0.0 epoch:3200 train_loss:0.0105 validation_loss:0.0130\n",
      "Time:0.0 epoch:3300 train_loss:0.0105 validation_loss:0.0130\n",
      "Time:0.0 epoch:3400 train_loss:0.0105 validation_loss:0.0130\n",
      "Time:0.0 epoch:3500 train_loss:0.0105 validation_loss:0.0130\n",
      "Time:0.0 epoch:3600 train_loss:0.0105 validation_loss:0.0130\n",
      "Time:0.0 epoch:3700 train_loss:0.0105 validation_loss:0.0130\n",
      "Time:0.0 epoch:3800 train_loss:0.0105 validation_loss:0.0130\n",
      "Time:0.0 epoch:3900 train_loss:0.0105 validation_loss:0.0130\n",
      "Time:0.0 epoch:4000 train_loss:0.0105 validation_loss:0.0130\n",
      "Time:0.0 epoch:4100 train_loss:0.0105 validation_loss:0.0130\n",
      "Time:0.0 epoch:4200 train_loss:0.0105 validation_loss:0.0130\n",
      "Time:0.0 epoch:4300 train_loss:0.0105 validation_loss:0.0130\n",
      "Time:0.0 epoch:4400 train_loss:0.0105 validation_loss:0.0130\n",
      "Time:0.0 epoch:4500 train_loss:0.0105 validation_loss:0.0130\n",
      "Time:0.0 epoch:4600 train_loss:0.0105 validation_loss:0.0130\n",
      "Time:0.0 epoch:4700 train_loss:0.0105 validation_loss:0.0130\n",
      "Time:0.0 epoch:4800 train_loss:0.0105 validation_loss:0.0130\n",
      "Time:0.0 epoch:4900 train_loss:0.0105 validation_loss:0.0130\n",
      "Time:0.0 epoch:5000 train_loss:0.0105 validation_loss:0.0130\n",
      "Time:0.0 epoch:5100 train_loss:0.0105 validation_loss:0.0130\n",
      "Time:0.0 epoch:5200 train_loss:0.0105 validation_loss:0.0130\n",
      "Time:0.0 epoch:5300 train_loss:0.0105 validation_loss:0.0130\n",
      "Time:0.0 epoch:5400 train_loss:0.0105 validation_loss:0.0130\n",
      "Time:0.0 epoch:5500 train_loss:0.0105 validation_loss:0.0130\n",
      "Time:0.0 epoch:5600 train_loss:0.0105 validation_loss:0.0130\n",
      "Time:0.0 epoch:5700 train_loss:0.0105 validation_loss:0.0130\n",
      "Time:0.0 epoch:5800 train_loss:0.0105 validation_loss:0.0130\n",
      "Time:0.0 epoch:5900 train_loss:0.0105 validation_loss:0.0130\n",
      "Time:0.0 epoch:6000 train_loss:0.0105 validation_loss:0.0130\n",
      "Time:0.0 epoch:6100 train_loss:0.0105 validation_loss:0.0130\n",
      "Time:0.0 epoch:6200 train_loss:0.0105 validation_loss:0.0130\n",
      "Time:0.0 epoch:6300 train_loss:0.0105 validation_loss:0.0130\n",
      "Time:0.0 epoch:6400 train_loss:0.0105 validation_loss:0.0130\n",
      "Time:0.0 epoch:6500 train_loss:0.0105 validation_loss:0.0130\n",
      "Time:0.0 epoch:6600 train_loss:0.0105 validation_loss:0.0130\n",
      "Time:0.0 epoch:6700 train_loss:0.0105 validation_loss:0.0130\n",
      "Time:0.0 epoch:6800 train_loss:0.0105 validation_loss:0.0130\n",
      "Time:0.0 epoch:6900 train_loss:0.0105 validation_loss:0.0130\n",
      "Time:0.0 epoch:7000 train_loss:0.0105 validation_loss:0.0130\n",
      "Time:0.0 epoch:7100 train_loss:0.0105 validation_loss:0.0130\n",
      "Time:0.0 epoch:7200 train_loss:0.0105 validation_loss:0.0130\n",
      "Time:0.0 epoch:7300 train_loss:0.0105 validation_loss:0.0130\n",
      "Time:0.0 epoch:7400 train_loss:0.0105 validation_loss:0.0130\n",
      "Time:0.0 epoch:7500 train_loss:0.0105 validation_loss:0.0130\n",
      "Time:0.0 epoch:7600 train_loss:0.0105 validation_loss:0.0130\n",
      "Time:0.0 epoch:7700 train_loss:0.0105 validation_loss:0.0130\n",
      "Time:0.0 epoch:7800 train_loss:0.0105 validation_loss:0.0130\n",
      "Time:0.0 epoch:7900 train_loss:0.0105 validation_loss:0.0130\n",
      "Time:0.0 epoch:8000 train_loss:0.0105 validation_loss:0.0130\n",
      "Time:0.0 epoch:8100 train_loss:0.0105 validation_loss:0.0130\n",
      "Time:0.0 epoch:8200 train_loss:0.0105 validation_loss:0.0130\n",
      "Time:0.0 epoch:8300 train_loss:0.0105 validation_loss:0.0130\n",
      "Time:0.0 epoch:8400 train_loss:0.0105 validation_loss:0.0130\n",
      "Time:0.0 epoch:8500 train_loss:0.0105 validation_loss:0.0130\n",
      "Time:0.0 epoch:8600 train_loss:0.0105 validation_loss:0.0130\n",
      "Time:0.0 epoch:8700 train_loss:0.0105 validation_loss:0.0130\n",
      "Time:0.0 epoch:8800 train_loss:0.0105 validation_loss:0.0130\n",
      "Time:0.0 epoch:8900 train_loss:0.0105 validation_loss:0.0130\n",
      "Time:0.0 epoch:9000 train_loss:0.0105 validation_loss:0.0130\n",
      "Time:0.0 epoch:9100 train_loss:0.0105 validation_loss:0.0130\n",
      "Time:0.0 epoch:9200 train_loss:0.0105 validation_loss:0.0130\n",
      "Time:0.0 epoch:9300 train_loss:0.0105 validation_loss:0.0130\n",
      "Time:0.0 epoch:9400 train_loss:0.0105 validation_loss:0.0130\n",
      "Time:0.0 epoch:9500 train_loss:0.0105 validation_loss:0.0130\n",
      "Time:0.0 epoch:9600 train_loss:0.0105 validation_loss:0.0130\n",
      "Time:0.0 epoch:9700 train_loss:0.0105 validation_loss:0.0130\n",
      "Time:0.0 epoch:9800 train_loss:0.0105 validation_loss:0.0130\n",
      "Time:0.0 epoch:9900 train_loss:0.0105 validation_loss:0.0130\n",
      "Test loss : 0.0156\n"
     ]
    }
   ],
   "source": [
    "with tf.Session() as sess:\n",
    "    sess.run(tf.global_variables_initializer())\n",
    "    \n",
    "    for epoch in range(EPOCHS):\n",
    "        train_loss = 0.0\n",
    "        start_time = time.time()\n",
    "        _, step_train_loss = sess.run([train_op, loss], feed_dict={X_model:X_train, y_model:y_train})\n",
    "        train_loss += step_train_loss\n",
    "        \n",
    "        if(epoch % 100 == 0):\n",
    "            end_time = time.time()\n",
    "            valid_loss = sess.run(loss, feed_dict={X_model:X_val, y_model:y_val})\n",
    "            print(\"Time:%.1f epoch:%d train_loss:%.4f validation_loss:%.4f\" %(end_time - start_time, epoch, train_loss, valid_loss))\n",
    "    \n",
    "    predictions, test_loss = sess.run([pred_model, loss], feed_dict={X_model:X_test, y_model:y_test})\n",
    "    print(\"Test loss : %.4f\" %(test_loss))\n",
    "    #show_graph(sess.graph_def)"
   ]
  },
  {
   "cell_type": "markdown",
   "metadata": {},
   "source": [
    "## Plot Prediction"
   ]
  },
  {
   "cell_type": "code",
   "execution_count": 119,
   "metadata": {},
   "outputs": [
    {
     "data": {
      "text/plain": [
       "(20,)"
      ]
     },
     "execution_count": 119,
     "metadata": {},
     "output_type": "execute_result"
    }
   ],
   "source": [
    "X_test.shape"
   ]
  },
  {
   "cell_type": "code",
   "execution_count": 122,
   "metadata": {},
   "outputs": [
    {
     "data": {
      "image/png": "[encoded data removed]",
      "text/plain": [
       "<matplotlib.figure.Figure at 0x19d14c299e8>"
      ]
     },
     "metadata": {},
     "output_type": "display_data"
    }
   ],
   "source": [
    "import matplotlib.pyplot as plt\n",
    "%matplotlib inline\n",
    "\n",
    "fig = plt.figure(figsize=(20, 10))\n",
    "plt.plot(X_test, y_test, 'r.')\n",
    "plt.plot(X_test, predictions, '.')\n",
    "plt.show()"
   ]
  }
 ],
 "metadata": {
  "kernelspec": {
   "display_name": "Python 3",
   "language": "python",
   "name": "python3"
  },
  "language_info": {
   "codemirror_mode": {
    "name": "ipython",
    "version": 3
   },
   "file_extension": ".py",
   "mimetype": "text/x-python",
   "name": "python",
   "nbconvert_exporter": "python",
   "pygments_lexer": "ipython3",
   "version": "3.6.4"
  }
 },
 "nbformat": 4,
 "nbformat_minor": 2
}
