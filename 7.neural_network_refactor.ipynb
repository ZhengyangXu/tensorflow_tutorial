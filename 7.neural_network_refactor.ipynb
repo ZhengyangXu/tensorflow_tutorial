{
 "cells": [
  {
   "cell_type": "markdown",
   "metadata": {},
   "source": [
    "# Neural Network"
   ]
  },
  {
   "cell_type": "markdown",
   "metadata": {},
   "source": [
    "# Whole idea\n",
    "\n",
    "```\n",
    "** Network **\n",
    "\n",
    "input --> \n",
    "          weight --> hidden layer 1 (activation function) --> \n",
    "          weights --> hidden layer 2 (activation function -->\n",
    "weights --> output layer\n",
    "\n",
    "** Loss **\n",
    "Compare output with true label --> cost function (loss entropy)\n",
    "optimization function (optimizaer) --> minimal cost(AdamOptimizer)\n",
    "\n",
    "** Update **\n",
    "Feed forward + backpropagation = epoch\n",
    "```"
   ]
  },
  {
   "cell_type": "code",
   "execution_count": 34,
   "metadata": {},
   "outputs": [],
   "source": [
    "import tensorflow as tf\n",
    "import numpy as np\n",
    "import utility\n",
    "from tensorflow.examples.tutorials.mnist import input_data"
   ]
  },
  {
   "cell_type": "code",
   "execution_count": 35,
   "metadata": {},
   "outputs": [
    {
     "data": {
      "text/plain": [
       "'1.8.0'"
      ]
     },
     "execution_count": 35,
     "metadata": {},
     "output_type": "execute_result"
    }
   ],
   "source": [
    "tf.__version__"
   ]
  },
  {
   "cell_type": "code",
   "execution_count": 36,
   "metadata": {},
   "outputs": [],
   "source": [
    "tf.reset_default_graph()"
   ]
  },
  {
   "cell_type": "markdown",
   "metadata": {},
   "source": [
    "\"\"\"\n",
    "\n",
    "One hot:\n",
    "\n",
    "0 = [1 0 0 0 0 0 0 0 0 0]\n",
    "\n",
    "1 = [0 1 0 0 0 0 0 0 0 0]\n",
    "\n",
    "2 = [0 0 1 0 0 0 0 0 0 0]\n",
    "\n",
    "3 = [0 0 0 1 0 0 0 0 0 0]\n",
    "\n",
    "4 = [0 0 0 0 1 0 0 0 0 0]\n",
    "\n",
    "5 = [0 0 0 0 0 1 0 0 0 0]\n",
    "\n",
    "6 = [0 0 0 0 0 0 1 0 0 0]\n",
    "\n",
    "7 = [0 0 0 0 0 0 0 1 0 0]\n",
    "\n",
    "8 = [0 0 0 0 0 0 0 0 1 0]\n",
    "\n",
    "9 = [0 0 0 0 0 0 0 0 0 1]\n",
    "\n",
    "\"\"\""
   ]
  },
  {
   "cell_type": "code",
   "execution_count": 37,
   "metadata": {},
   "outputs": [
    {
     "name": "stdout",
     "output_type": "stream",
     "text": [
      "Extracting ./train-images-idx3-ubyte.gz\n",
      "Extracting ./train-labels-idx1-ubyte.gz\n",
      "Extracting ./t10k-images-idx3-ubyte.gz\n",
      "Extracting ./t10k-labels-idx1-ubyte.gz\n"
     ]
    }
   ],
   "source": [
    "mnist = input_data.read_data_sets(\"./\", one_hot=True)\n",
    "X_train = mnist.train.images\n",
    "y_train = mnist.train.labels\n",
    "X_test = mnist.test.images\n",
    "y_test = mnist.test.labels"
   ]
  },
  {
   "cell_type": "code",
   "execution_count": 48,
   "metadata": {},
   "outputs": [],
   "source": [
    "# Output from 0 - 9, in total 10 classes\n",
    "n_output = 10\n",
    "# Images size is 28 * 28\n",
    "n_input = 28 * 28\n",
    "batch_size = 128\n",
    "sample_size = mnist.train.num_examples\n",
    "steps = int(sample_size / batch_size)\n",
    "\n",
    "learning_rate = 0.001\n",
    "epochs = 5"
   ]
  },
  {
   "cell_type": "code",
   "execution_count": 49,
   "metadata": {},
   "outputs": [],
   "source": [
    "X_model = tf.placeholder('float32', [None, n_input], name=\"X\")\n",
    "y_model = tf.placeholder('float32', [None, n_output], name=\"y\")"
   ]
  },
  {
   "cell_type": "code",
   "execution_count": 50,
   "metadata": {},
   "outputs": [],
   "source": [
    "def nn_model(n_input, n_output):\n",
    "    with tf.variable_scope('nn' or scopes) as scope:\n",
    "        node_hidden_layer1 = 500\n",
    "        node_hidden_layer2 = 500\n",
    "        node_hidden_layer3 = 500\n",
    "\n",
    "        hidden_layer1 = {\"weights\": tf.Variable(tf.random_normal([n_input, node_hidden_layer1]), name=\"W1\"),\n",
    "                          \"biases\": tf.Variable(tf.random_normal([node_hidden_layer1]), name=\"b1\")}\n",
    "\n",
    "        hidden_layer2 = {\"weights\": tf.Variable(tf.random_normal([node_hidden_layer1, node_hidden_layer2]), name=\"W2\"),\n",
    "                          \"biases\": tf.Variable(tf.random_normal([node_hidden_layer2]), name=\"b2\")}\n",
    "\n",
    "        hidden_layer3 = {\"weights\": tf.Variable(tf.random_normal([node_hidden_layer2, node_hidden_layer3]), name=\"W3\"),\n",
    "                          \"biases\": tf.Variable(tf.random_normal([node_hidden_layer3]), name=\"b3\")}\n",
    "\n",
    "        output_layer = {\"weights\": tf.Variable(tf.random_normal([node_hidden_layer3, n_output]), name=\"W_out\"),\n",
    "                        \"biases\": tf.Variable(tf.random_normal([n_output]), name=\"b_out\")}\n",
    "\n",
    "        # Hidden Layer: weights \\dot input_data + biaes\n",
    "        layer1_output = tf.add(tf.matmul(X_model, hidden_layer1[\"weights\"]), hidden_layer1[\"biases\"])\n",
    "        layer1_output = tf.nn.relu(layer1_output)\n",
    "\n",
    "        layer2_output = tf.add(tf.matmul(layer1_output, hidden_layer2[\"weights\"]), hidden_layer2[\"biases\"])\n",
    "        layer2_output = tf.nn.relu(layer2_output)\n",
    "\n",
    "        layer3_output = tf.add(tf.matmul(layer2_output, hidden_layer3[\"weights\"]), hidden_layer3[\"biases\"])\n",
    "        layer3_output = tf.nn.relu(layer3_output)\n",
    "\n",
    "        output = tf.add(tf.matmul(layer3_output, output_layer[\"weights\"]), output_layer[\"biases\"])\n",
    "\n",
    "        return output"
   ]
  },
  {
   "cell_type": "code",
   "execution_count": 51,
   "metadata": {},
   "outputs": [],
   "source": [
    "prediction = nn_model(n_input, n_output)\n",
    "loss = tf.reduce_mean(tf.nn.softmax_cross_entropy_with_logits_v2(logits=prediction, labels=y_model))\n",
    "optimizer = tf.train.AdamOptimizer(learning_rate)\n",
    "train_op = optimizer.minimize(loss)"
   ]
  },
  {
   "cell_type": "code",
   "execution_count": 57,
   "metadata": {},
   "outputs": [
    {
     "name": "stdout",
     "output_type": "stream",
     "text": [
      "Epoch: 0 completed out of 5 loss:1643828.339355 \n",
      "\n",
      "Epoch: 1 completed out of 5 loss:376665.865192 \n",
      "\n",
      "Epoch: 2 completed out of 5 loss:211737.499020 \n",
      "\n",
      "Epoch: 3 completed out of 5 loss:126667.196316 \n",
      "\n",
      "Epoch: 4 completed out of 5 loss:78672.101873 \n",
      "\n",
      "Accuracy: 0.935500\n"
     ]
    }
   ],
   "source": [
    "# Cycling feed forward and backpropagation\n",
    "with tf.Session() as sess:\n",
    "    sess.run(tf.global_variables_initializer())\n",
    "    \n",
    "    for epoch in range(epochs):\n",
    "        epoch_loss = 0\n",
    "        for step in range(steps):\n",
    "            start = step * batch_size\n",
    "            end = (step + 1) * batch_size\n",
    "            X_batch = X_train[start:end]\n",
    "            y_batch = y_train[start:end]\n",
    "            \n",
    "            step_loss, _ = sess.run([loss, train_op], feed_dict={X_model:X_batch, y_model:y_batch})\n",
    "            epoch_loss += step_loss\n",
    "\n",
    "        print('Epoch: %d completed out of %d loss:%f \\n' % (epoch, epochs, epoch_loss))\n",
    "\n",
    "    predictions = tf.equal(tf.argmax(prediction, 1), tf.argmax(y_test, 1))\n",
    "\n",
    "    accuracy = tf.reduce_mean(tf.cast(predictions, \"float\"))\n",
    "    print('Accuracy: %f' % (accuracy.eval({X_model:X_test, y_model:y_test})))"
   ]
  },
  {
   "cell_type": "code",
   "execution_count": null,
   "metadata": {},
   "outputs": [],
   "source": []
  }
 ],
 "metadata": {
  "kernelspec": {
   "display_name": "Python 3",
   "language": "python",
   "name": "python3"
  },
  "language_info": {
   "codemirror_mode": {
    "name": "ipython",
    "version": 3
   },
   "file_extension": ".py",
   "mimetype": "text/x-python",
   "name": "python",
   "nbconvert_exporter": "python",
   "pygments_lexer": "ipython3",
   "version": "3.6.4"
  }
 },
 "nbformat": 4,
 "nbformat_minor": 2
}
