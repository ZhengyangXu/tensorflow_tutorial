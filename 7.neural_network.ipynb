{
 "cells": [
  {
   "cell_type": "markdown",
   "metadata": {},
   "source": [
    "# Neural Network"
   ]
  },
  {
   "cell_type": "markdown",
   "metadata": {},
   "source": [
    "# Whole idea\n",
    "\n",
    "```\n",
    "** Network **\n",
    "\n",
    "input --> \n",
    "          weight --> hidden layer 1 (activation function) --> \n",
    "          weights --> hidden layer 2 (activation function -->\n",
    "weights --> output layer\n",
    "\n",
    "** Loss **\n",
    "Compare output with true label --> cost function (loss entropy)\n",
    "optimization function (optimizaer) --> minimal cost(AdamOptimizer)\n",
    "\n",
    "** Update **\n",
    "Feed forward + backpropagation = epoch\n",
    "```"
   ]
  },
  {
   "cell_type": "code",
   "execution_count": 1,
   "metadata": {},
   "outputs": [
    {
     "name": "stderr",
     "output_type": "stream",
     "text": [
      "e:\\Anaconda3\\lib\\site-packages\\h5py\\__init__.py:36: FutureWarning: Conversion of the second argument of issubdtype from `float` to `np.floating` is deprecated. In future, it will be treated as `np.float64 == np.dtype(float).type`.\n",
      "  from ._conv import register_converters as _register_converters\n"
     ]
    }
   ],
   "source": [
    "import tensorflow as tf\n",
    "from tensorflow.examples.tutorials.mnist import input_data"
   ]
  },
  {
   "cell_type": "markdown",
   "metadata": {},
   "source": [
    "\"\"\"\n",
    "\n",
    "One hot:\n",
    "\n",
    "0 = [1 0 0 0 0 0 0 0 0 0]\n",
    "\n",
    "1 = [0 1 0 0 0 0 0 0 0 0]\n",
    "\n",
    "2 = [0 0 1 0 0 0 0 0 0 0]\n",
    "\n",
    "3 = [0 0 0 1 0 0 0 0 0 0]\n",
    "\n",
    "4 = [0 0 0 0 1 0 0 0 0 0]\n",
    "\n",
    "5 = [0 0 0 0 0 1 0 0 0 0]\n",
    "\n",
    "6 = [0 0 0 0 0 0 1 0 0 0]\n",
    "\n",
    "7 = [0 0 0 0 0 0 0 1 0 0]\n",
    "\n",
    "8 = [0 0 0 0 0 0 0 0 1 0]\n",
    "\n",
    "9 = [0 0 0 0 0 0 0 0 0 1]\n",
    "\n",
    "\"\"\""
   ]
  },
  {
   "cell_type": "code",
   "execution_count": 2,
   "metadata": {},
   "outputs": [
    {
     "name": "stdout",
     "output_type": "stream",
     "text": [
      "WARNING:tensorflow:From <ipython-input-2-56e3e062ec64>:1: read_data_sets (from tensorflow.contrib.learn.python.learn.datasets.mnist) is deprecated and will be removed in a future version.\n",
      "Instructions for updating:\n",
      "Please use alternatives such as official/mnist/dataset.py from tensorflow/models.\n",
      "WARNING:tensorflow:From e:\\Anaconda3\\lib\\site-packages\\tensorflow\\contrib\\learn\\python\\learn\\datasets\\mnist.py:260: maybe_download (from tensorflow.contrib.learn.python.learn.datasets.base) is deprecated and will be removed in a future version.\n",
      "Instructions for updating:\n",
      "Please write your own downloading logic.\n",
      "WARNING:tensorflow:From e:\\Anaconda3\\lib\\site-packages\\tensorflow\\contrib\\learn\\python\\learn\\datasets\\mnist.py:262: extract_images (from tensorflow.contrib.learn.python.learn.datasets.mnist) is deprecated and will be removed in a future version.\n",
      "Instructions for updating:\n",
      "Please use tf.data to implement this functionality.\n",
      "Extracting ./train-images-idx3-ubyte.gz\n",
      "WARNING:tensorflow:From e:\\Anaconda3\\lib\\site-packages\\tensorflow\\contrib\\learn\\python\\learn\\datasets\\mnist.py:267: extract_labels (from tensorflow.contrib.learn.python.learn.datasets.mnist) is deprecated and will be removed in a future version.\n",
      "Instructions for updating:\n",
      "Please use tf.data to implement this functionality.\n",
      "Extracting ./train-labels-idx1-ubyte.gz\n",
      "WARNING:tensorflow:From e:\\Anaconda3\\lib\\site-packages\\tensorflow\\contrib\\learn\\python\\learn\\datasets\\mnist.py:110: dense_to_one_hot (from tensorflow.contrib.learn.python.learn.datasets.mnist) is deprecated and will be removed in a future version.\n",
      "Instructions for updating:\n",
      "Please use tf.one_hot on tensors.\n",
      "Extracting ./t10k-images-idx3-ubyte.gz\n",
      "Extracting ./t10k-labels-idx1-ubyte.gz\n",
      "WARNING:tensorflow:From e:\\Anaconda3\\lib\\site-packages\\tensorflow\\contrib\\learn\\python\\learn\\datasets\\mnist.py:290: DataSet.__init__ (from tensorflow.contrib.learn.python.learn.datasets.mnist) is deprecated and will be removed in a future version.\n",
      "Instructions for updating:\n",
      "Please use alternatives such as official/mnist/dataset.py from tensorflow/models.\n"
     ]
    }
   ],
   "source": [
    "mnist = input_data.read_data_sets(\"./\", one_hot=True)"
   ]
  },
  {
   "cell_type": "code",
   "execution_count": 3,
   "metadata": {},
   "outputs": [],
   "source": [
    "node_hidden_layer1 = 500\n",
    "node_hidden_layer2 = 500\n",
    "node_hidden_layer3 = 500\n",
    "\n",
    "# Output from 0 - 9, in total 10 classes\n",
    "n_output = 10\n",
    "# Images size is 28 * 28\n",
    "n_input = 28 * 28\n",
    "batch_size = 128\n",
    "sample_size = mnist.train.num_examples\n",
    "steps = int(sample_size / batch_size)\n",
    "\n",
    "learning_rate = 0.001\n",
    "\n",
    "epochs = 10"
   ]
  },
  {
   "cell_type": "code",
   "execution_count": 4,
   "metadata": {},
   "outputs": [],
   "source": [
    "X = tf.placeholder('float', [None, 784])\n",
    "y = tf.placeholder('float')"
   ]
  },
  {
   "cell_type": "code",
   "execution_count": 5,
   "metadata": {},
   "outputs": [],
   "source": [
    "def neural_network_model(X_data):\n",
    "    hidden_layer1 = {\"weights\": tf.Variable(tf.random_normal([n_input, node_hidden_layer1])),\n",
    "                      \"biases\": tf.Variable(tf.random_normal([node_hidden_layer1]))}\n",
    "    \n",
    "    hidden_layer2 = {\"weights\": tf.Variable(tf.random_normal([node_hidden_layer1, node_hidden_layer2])),\n",
    "                      \"biases\": tf.Variable(tf.random_normal([node_hidden_layer2]))}\n",
    "    \n",
    "    hidden_layer3 = {\"weights\": tf.Variable(tf.random_normal([node_hidden_layer2, node_hidden_layer3])),\n",
    "                      \"biases\": tf.Variable(tf.random_normal([node_hidden_layer3]))}\n",
    "    \n",
    "    output_layer = {\"weights\": tf.Variable(tf.random_normal([node_hidden_layer3, n_output])),\n",
    "                    \"biases\": tf.Variable(tf.random_normal([n_output]))}\n",
    "    \n",
    "    # Hidden Layer: weights \\dot input_data + biaes\n",
    "    layer1 = tf.add(tf.matmul(X_data, hidden_layer1[\"weights\"]), hidden_layer1[\"biases\"])\n",
    "    layer1 = tf.nn.relu(layer1)\n",
    "    \n",
    "    layer2 = tf.add(tf.matmul(layer1, hidden_layer2[\"weights\"]), hidden_layer2[\"biases\"])\n",
    "    layer2 = tf.nn.relu(layer2)\n",
    "    \n",
    "    layer3 = tf.add(tf.matmul(layer2, hidden_layer3[\"weights\"]), hidden_layer3[\"biases\"])\n",
    "    layer3 = tf.nn.relu(layer3)\n",
    "    \n",
    "    output = tf.add(tf.matmul(layer3, output_layer[\"weights\"]), output_layer[\"biases\"])\n",
    "\n",
    "    return output\n",
    "    "
   ]
  },
  {
   "cell_type": "code",
   "execution_count": 6,
   "metadata": {},
   "outputs": [],
   "source": [
    "def train_nn(X_data):\n",
    "    prediction = neural_network_model(X_data)\n",
    "    loss = tf.reduce_mean(tf.nn.softmax_cross_entropy_with_logits_v2(logits=prediction, labels=y))\n",
    "    \n",
    "    optimizer = tf.train.AdamOptimizer(learning_rate).minimize(loss)\n",
    "    \n",
    "    # Cycling feed forward and backpropagation\n",
    "    with tf.Session() as sess:\n",
    "        sess.run(tf.global_variables_initializer())\n",
    "        \n",
    "        for epoch in range(epochs):\n",
    "            epoch_loss = 0\n",
    "            for step in range(steps):\n",
    "                X_batch, y_batch = mnist.train.next_batch(batch_size)\n",
    "                _, step_loss = sess.run([optimizer, loss], feed_dict={X:X_batch, y:y_batch})\n",
    "                epoch_loss += step_loss\n",
    "                \n",
    "            print('Epoch: %d completed out of %d loss:%f \\n' % (epoch, epochs, epoch_loss))\n",
    "            \n",
    "        correct = tf.equal(tf.argmax(prediction, 1), tf.argmax(y, 1))\n",
    "        \n",
    "        accuracy = tf.reduce_mean(tf.cast(correct, \"float\"))\n",
    "        print('Accuracy: %f' % (accuracy.eval({X:mnist.test.images, y:mnist.test.labels})))"
   ]
  },
  {
   "cell_type": "code",
   "execution_count": 7,
   "metadata": {},
   "outputs": [
    {
     "name": "stdout",
     "output_type": "stream",
     "text": [
      "Epoch: 0 completed out of 10 loss:1413730.257538 \n",
      "\n",
      "Epoch: 1 completed out of 10 loss:348943.855309 \n",
      "\n",
      "Epoch: 2 completed out of 10 loss:197105.603615 \n",
      "\n",
      "Epoch: 3 completed out of 10 loss:116050.142179 \n",
      "\n",
      "Epoch: 4 completed out of 10 loss:72626.955757 \n",
      "\n",
      "Epoch: 5 completed out of 10 loss:47362.752818 \n",
      "\n",
      "Epoch: 6 completed out of 10 loss:29632.677888 \n",
      "\n",
      "Epoch: 7 completed out of 10 loss:19850.288134 \n",
      "\n",
      "Epoch: 8 completed out of 10 loss:16063.987258 \n",
      "\n",
      "Epoch: 9 completed out of 10 loss:12847.865221 \n",
      "\n",
      "Accuracy: 0.947700\n"
     ]
    }
   ],
   "source": [
    "train_nn(X)"
   ]
  }
 ],
 "metadata": {
  "kernelspec": {
   "display_name": "Python 3",
   "language": "python",
   "name": "python3"
  },
  "language_info": {
   "codemirror_mode": {
    "name": "ipython",
    "version": 3
   },
   "file_extension": ".py",
   "mimetype": "text/x-python",
   "name": "python",
   "nbconvert_exporter": "python",
   "pygments_lexer": "ipython3",
   "version": "3.6.4"
  }
 },
 "nbformat": 4,
 "nbformat_minor": 2
}
