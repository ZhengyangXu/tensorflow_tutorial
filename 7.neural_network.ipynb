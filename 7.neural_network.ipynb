{
 "cells": [
  {
   "cell_type": "markdown",
   "metadata": {},
   "source": [
    "# Neural Network"
   ]
  },
  {
   "cell_type": "markdown",
   "metadata": {},
   "source": [
    "# Whole idea\n",
    "\n",
    "```\n",
    "** Network **\n",
    "\n",
    "input --> \n",
    "          weight --> hidden layer 1 (activation function) --> \n",
    "          weights --> hidden layer 2 (activation function -->\n",
    "weights --> output layer\n",
    "\n",
    "** Loss **\n",
    "Compare output with true label --> cost function (loss entropy)\n",
    "optimization function (optimizaer) --> minimal cost(AdamOptimizer)\n",
    "\n",
    "** Update **\n",
    "Feed forward + backpropagation = epoch\n",
    "```"
   ]
  },
  {
   "cell_type": "code",
   "execution_count": 2,
   "metadata": {},
   "outputs": [],
   "source": [
    "import tensorflow as tf\n",
    "from tensorflow.examples.tutorials.mnist import input_data"
   ]
  },
  {
   "cell_type": "markdown",
   "metadata": {},
   "source": [
    "\"\"\"\n",
    "One hot:\n",
    "0 = [1 0 0 0 0 0 0 0 0 0]\n",
    "1 = [0 1 0 0 0 0 0 0 0 0]\n",
    "2 = [0 0 1 0 0 0 0 0 0 0]\n",
    "3 = [0 0 0 1 0 0 0 0 0 0]\n",
    "4 = [0 0 0 0 1 0 0 0 0 0]\n",
    "5 = [0 0 0 0 0 1 0 0 0 0]\n",
    "6 = [0 0 0 0 0 0 1 0 0 0]\n",
    "7 = [0 0 0 0 0 0 0 1 0 0]\n",
    "8 = [0 0 0 0 0 0 0 0 1 0]\n",
    "9 = [0 0 0 0 0 0 0 0 0 1]\n",
    "\n",
    "\"\"\""
   ]
  },
  {
   "cell_type": "code",
   "execution_count": 3,
   "metadata": {},
   "outputs": [
    {
     "name": "stdout",
     "output_type": "stream",
     "text": [
      "Successfully downloaded train-images-idx3-ubyte.gz 9912422 bytes.\n",
      "Extracting ./train-images-idx3-ubyte.gz\n",
      "Successfully downloaded train-labels-idx1-ubyte.gz 28881 bytes.\n",
      "Extracting ./train-labels-idx1-ubyte.gz\n",
      "Successfully downloaded t10k-images-idx3-ubyte.gz 1648877 bytes.\n",
      "Extracting ./t10k-images-idx3-ubyte.gz\n",
      "Successfully downloaded t10k-labels-idx1-ubyte.gz 4542 bytes.\n",
      "Extracting ./t10k-labels-idx1-ubyte.gz\n"
     ]
    }
   ],
   "source": [
    "mnist = input_data.read_data_sets(\"./\", one_hot=True)"
   ]
  },
  {
   "cell_type": "code",
   "execution_count": 7,
   "metadata": {},
   "outputs": [],
   "source": [
    "node_hidden_layer1 = 500\n",
    "node_hidden_layer2 = 500\n",
    "node_hidden_layer3 = 500\n",
    "\n",
    "n_output = 10 # Output from 0 - 9, in total 10 classes\n",
    "n_input = 28 * 28 # Images size is 28 * 28\n",
    "batch_size = 128"
   ]
  },
  {
   "cell_type": "code",
   "execution_count": 8,
   "metadata": {},
   "outputs": [],
   "source": [
    "X = tf.placeholder(tf.float32, shape=[None, n_input], name=\"X_data\")\n",
    "y = tf.placeholder(tf.float32, shape=[None, ], name=\"y_data\")"
   ]
  },
  {
   "cell_type": "code",
   "execution_count": 10,
   "metadata": {},
   "outputs": [],
   "source": [
    "def neural_network_model(X_data):\n",
    "    hiddent_layer1 = {\"weights\": tf.Variable(tf.random_normal([n_input, node_hidden_layer1])),\n",
    "                      \"biases\": tf.Variable(tf.random_normal([node_hidden_layer1]))}\n",
    "    \n",
    "    hiddent_layer2 = {\"weights\": tf.Variable(tf.random_normal([node_hidden_layer1, node_hidden_layer2])),\n",
    "                      \"biases\": tf.Variable(tf.random_normal([node_hidden_layer2]))}\n",
    "    \n",
    "    hiddent_layer3 = {\"weights\": tf.Variable(tf.random_normal([node_hidden_layer2, node_hidden_layer3])),\n",
    "                      \"biases\": tf.Variable(tf.random_normal([node_hidden_layer3]))}\n",
    "    \n",
    "    output = {\"weights\": tf.Variable(tf.random_normal([node_hidden_layer3, n_output])),\n",
    "              \"biases\": tf.Variable(tf.random_normal([n_output]))}\n",
    "    \n",
    "    # Hidden Layer: weights \\dot input_data + biaes\n",
    "    layer1 = tf.add(tf.matmul(X_data, hiddent_layer1[\"weights\"]) + hiddent_layer1[\"biases\"])\n",
    "    layer1 = tf.nn.relu(layer1)\n",
    "    \n",
    "    layer2 = tf.add(tf.matmul(X_data, hiddent_layer2[\"weights\"]) + hiddent_layer2[\"biases\"])\n",
    "    layer2 = tf.nn.relu(layer2)\n",
    "    \n",
    "    layer3 = tf.add(tf.matmul(X_data, hiddent_layer3[\"weights\"]) + hiddent_layer3[\"biases\"])\n",
    "    layer3 = tf.nn.relu(layer3)\n",
    "    \n",
    "    output = tf.add(tf.matmul(X_data, hiddent_layer1[\"weights\"]) + hiddent_layer1[\"biases\"])\n",
    "\n",
    "    \n",
    "    "
   ]
  }
 ],
 "metadata": {
  "kernelspec": {
   "display_name": "Python 3",
   "language": "python",
   "name": "python3"
  },
  "language_info": {
   "codemirror_mode": {
    "name": "ipython",
    "version": 3
   },
   "file_extension": ".py",
   "mimetype": "text/x-python",
   "name": "python",
   "nbconvert_exporter": "python",
   "pygments_lexer": "ipython3",
   "version": "3.6.4"
  }
 },
 "nbformat": 4,
 "nbformat_minor": 2
}
